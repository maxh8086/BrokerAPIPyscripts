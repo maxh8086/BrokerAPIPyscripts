{
 "cells": [
  {
   "cell_type": "code",
   "execution_count": null,
   "id": "d9d5f2ff-aa33-4db3-9ae6-6671f95e756d",
   "metadata": {},
   "outputs": [],
   "source": [
    "import urllib.parse\n",
    "import pandas as pd\n",
    "import requests"
   ]
  },
  {
   "cell_type": "code",
   "execution_count": null,
   "id": "coral-colleague",
   "metadata": {},
   "outputs": [],
   "source": [
    "apiKey = ''\n",
    "secretKey = ''\n",
    "redirectUrl = 'https://127.0.0.1:5000/'\n",
    "rurl = urllib.parse.quote('https://127.0.0.1:5000/',safe=\"\")\n",
    "rurl"
   ]
  },
  {
   "cell_type": "code",
   "execution_count": null,
   "id": "revised-vacuum",
   "metadata": {},
   "outputs": [],
   "source": [
    "uri = f'https://api-v2.upstox.com/login/authorization/dialog?response_type=code&client_id={apiKey}&redirect_uri={rurl}'\n",
    "uri"
   ]
  },
  {
   "cell_type": "code",
   "execution_count": null,
   "id": "otherwise-cover",
   "metadata": {},
   "outputs": [],
   "source": [
    "url = 'https://api-v2.upstox.com/login/authorization/token'\n",
    "code = 'Ub8cx_'\n",
    "headers = {\n",
    "    'accept': 'application/json',\n",
    "    'Api-Version': '2.0',\n",
    "    'Content-Type': 'application/x-www-form-urlencoded'\n",
    "}\n",
    "\n",
    "data = {\n",
    "    'code': code,\n",
    "    'client_id': apiKey,\n",
    "    'client_secret': secretKey,\n",
    "    'redirect_uri': redirectUrl,\n",
    "    'grant_type': 'authorization_code'\n",
    "}\n",
    "\n",
    "response = requests.post(url, headers=headers, data=data)\n",
    "json_response = response.json()\n",
    "\n",
    "json_response\n"
   ]
  },
  {
   "cell_type": "code",
   "execution_count": null,
   "id": "special-marking",
   "metadata": {},
   "outputs": [],
   "source": [
    "access_token = json_response['access_token']\n",
    "access_token"
   ]
  },
  {
   "cell_type": "code",
   "execution_count": null,
   "id": "dying-spotlight",
   "metadata": {
    "tags": []
   },
   "outputs": [],
   "source": [
    "url = 'https://api-v2.upstox.com/user/get-funds-and-margin'\n",
    "headers = {\n",
    "    'accept': 'application/json',\n",
    "    'Api-Version': '2.0',\n",
    "    'Authorization': f'Bearer {access_token}'\n",
    "}\n",
    "params = {\n",
    "    'segment': 'COM'  #'COM'\n",
    "}\n",
    "\n",
    "\n",
    "response = requests.get(url, headers=headers, params=params)\n",
    "response.json()"
   ]
  },
  {
   "cell_type": "code",
   "execution_count": null,
   "id": "seasonal-dictionary",
   "metadata": {},
   "outputs": [],
   "source": []
  },
  {
   "cell_type": "code",
   "execution_count": null,
   "id": "several-logic",
   "metadata": {},
   "outputs": [],
   "source": [
    "import pandas as pd\n",
    "fileUrl ='https://assets.upstox.com/market-quote/instruments/exchange/complete.csv.gz'\n",
    "symboldf = pd.read_csv(fileUrl)\n",
    "symboldf['expiry'] = pd.to_datetime(symboldf['expiry']).apply(lambda x: x.date())   \n",
    "symboldf"
   ]
  },
  {
   "cell_type": "code",
   "execution_count": null,
   "id": "confidential-macedonia",
   "metadata": {
    "tags": []
   },
   "outputs": [],
   "source": [
    "niftyDf = symboldf[(symboldf.instrument_type == 'OPTIDX') & (symboldf.tradingsymbol.str.startswith('BANKNIFTY')) &  (symboldf.exchange == 'NSE_FO')]\n",
    "niftyDf"
   ]
  },
  {
   "cell_type": "code",
   "execution_count": null,
   "id": "through-wichita",
   "metadata": {
    "tags": []
   },
   "outputs": [],
   "source": [
    "expiryList = niftyDf['expiry'].unique().tolist()\n",
    "expiryList.sort()   \n",
    "expiryList"
   ]
  },
  {
   "cell_type": "code",
   "execution_count": null,
   "id": "deluxe-norfolk",
   "metadata": {},
   "outputs": [],
   "source": [
    "expiryList[0]"
   ]
  },
  {
   "cell_type": "code",
   "execution_count": null,
   "id": "661c06b3-b5ae-49ef-96a4-0fd9a0569a84",
   "metadata": {},
   "outputs": [],
   "source": [
    "symboldf[(symboldf.tradingsymbol =='RAINBOW') & (symboldf.exchange =='NSE_EQ')]"
   ]
  },
  {
   "cell_type": "code",
   "execution_count": null,
   "id": "honey-costa",
   "metadata": {},
   "outputs": [],
   "source": [
    "symboldf[(symboldf.tradingsymbol =='BHEL') & (symboldf.exchange =='NSE_EQ')]"
   ]
  },
  {
   "cell_type": "code",
   "execution_count": null,
   "id": "practical-march",
   "metadata": {},
   "outputs": [],
   "source": [
    "import requests\n",
    "\n",
    "def make_request(method, url, headers=None, params=None, data=None):\n",
    "    response = None\n",
    "\n",
    "    try:\n",
    "        if method == 'GET':\n",
    "            response = requests.get(url, headers=headers, params=params)\n",
    "        elif method == 'POST':\n",
    "            response = requests.post(url, headers=headers, params=params, json=data)\n",
    "        elif method == 'PUT':\n",
    "            response = requests.put(url, headers=headers, params=params, json=data)\n",
    "        else:\n",
    "            raise ValueError('Invalid HTTP method.')\n",
    "\n",
    "        \n",
    "        if response.status_code == 200:\n",
    "           \n",
    "            return response.json()\n",
    "        else:\n",
    "            \n",
    "            return response\n",
    "\n",
    "    except requests.exceptions.RequestException as e:\n",
    "        print(f'An error occurred: {e}')\n",
    "        return None"
   ]
  },
  {
   "cell_type": "code",
   "execution_count": null,
   "id": "legal-reply",
   "metadata": {
    "tags": []
   },
   "outputs": [],
   "source": [
    "url = 'https://api-v2.upstox.com/market-quote/quotes'\n",
    "headers = {\n",
    "    'accept': 'application/json',\n",
    "    'Api-Version': '2.0',\n",
    "    'Authorization': f'Bearer {access_token}'\n",
    "}\n",
    "params = {\n",
    "    'symbol': 'NSE_EQ|INE848E01016,NSE_FO|43286'\n",
    "}\n",
    "\n",
    "response = make_request('GET', url, headers=headers, params=params)\n",
    "response"
   ]
  },
  {
   "cell_type": "code",
   "execution_count": null,
   "id": "weighted-commerce",
   "metadata": {
    "tags": []
   },
   "outputs": [],
   "source": [
    "url = 'https://api-v2.upstox.com/market-quote/ohlc'\n",
    "headers = {\n",
    "    'accept': 'application/json',\n",
    "    'Api-Version': '2.0',\n",
    "    'Authorization': f'Bearer {access_token}'\n",
    "}\n",
    "params = {\n",
    "    'symbol': 'NSE_EQ|INE001A01036,NSE_FO|43286',\n",
    "    'interval': 'I30'   \n",
    "}\n",
    "\n",
    "response = make_request('GET', url, headers=headers, params=params)\n",
    "response"
   ]
  },
  {
   "cell_type": "code",
   "execution_count": null,
   "id": "oriented-rates",
   "metadata": {
    "tags": []
   },
   "outputs": [],
   "source": [
    "url = 'https://api-v2.upstox.com/market-quote/ltp'\n",
    "headers = {\n",
    "    'accept': 'application/json',\n",
    "    'Api-Version': '2.0',\n",
    "    'Authorization': f'Bearer {access_token}'\n",
    "}\n",
    "params = {\n",
    "    'symbol': 'NSE_EQ|INE848E01016,NSE_EQ|INE001A01036'\n",
    "}\n",
    "\n",
    "response = make_request('GET', url, headers=headers, params=params)\n",
    "response"
   ]
  },
  {
   "cell_type": "code",
   "execution_count": null,
   "id": "copyrighted-mileage",
   "metadata": {
    "tags": []
   },
   "outputs": [],
   "source": [
    "instrument = urllib.parse.quote('MCX_FO|250060')\n",
    "url = f'https://api-v2.upstox.com/historical-candle/{instrument}/1minute/2023-06-04/2023-06-01' \n",
    "headers = {\n",
    "    'accept': 'application/json',\n",
    "    'Api-Version': '2.0',\n",
    "    \n",
    "}\n",
    "\n",
    "response = make_request('GET', url, headers=headers)\n",
    "response"
   ]
  },
  {
   "cell_type": "code",
   "execution_count": null,
   "id": "recovered-verse",
   "metadata": {
    "tags": []
   },
   "outputs": [],
   "source": [
    "instrument = urllib.parse.quote('NSE_EQ|INE001A01036')\n",
    "url = f'https://api-v2.upstox.com/historical-candle/intraday/{instrument}/1minute' \n",
    "headers = {\n",
    "    'accept': 'application/json',\n",
    "    'Api-Version': '2.0',\n",
    "    \n",
    "}\n",
    "\n",
    "response = make_request('GET', url, headers=headers)\n",
    "response"
   ]
  },
  {
   "cell_type": "code",
   "execution_count": null,
   "id": "combined-integration",
   "metadata": {},
   "outputs": [],
   "source": [
    "#place order\n",
    "url = 'https://api-v2.upstox.com/order/place'\n",
    "headers = {\n",
    "    'accept': 'application/json',\n",
    "    'Api-Version': '2.0',\n",
    "    'Content-Type': 'application/json',\n",
    "    'Authorization': f'Bearer {access_token}'\n",
    "}\n",
    "data = {\n",
    "    \"quantity\": 1,\n",
    "    \"product\": \"I\",\n",
    "    \"validity\": \"DAY\",\n",
    "    \"price\": 90.2,\n",
    "    \"tag\": \"dft\",\n",
    "    \"instrument_token\": \"NSE_EQ|INE257A01026\",\n",
    "    \"order_type\": \"LIMIT\",\n",
    "        \"transaction_type\": \"BUY\",\n",
    "    \"disclosed_quantity\": 0,\n",
    "    \"trigger_price\": 0,\n",
    "    \"is_amo\": False\n",
    "}\n",
    "\n",
    "response = make_request('POST', url, headers=headers, data=data)\n",
    "response"
   ]
  },
  {
   "cell_type": "code",
   "execution_count": null,
   "id": "cf675fa1-bd22-46e2-9d20-03461fc81b18",
   "metadata": {
    "tags": []
   },
   "outputs": [],
   "source": [
    "#order book\n",
    "url = 'https://api-v2.upstox.com/order/retrieve-all'\n",
    "headers = {\n",
    "    'accept': 'application/json',\n",
    "    'Api-Version': '2.0',\n",
    "    'Authorization': f'Bearer {access_token}'\n",
    "}\n",
    "\n",
    "response = make_request('GET', url, headers=headers)\n",
    "response"
   ]
  },
  {
   "cell_type": "code",
   "execution_count": null,
   "id": "6d2e2f15-7c67-47d1-990e-46036b6095d0",
   "metadata": {
    "tags": []
   },
   "outputs": [],
   "source": [
    "#order history by id\n",
    "url = 'https://api-v2.upstox.com/order/history'\n",
    "headers = {\n",
    "    'accept': 'application/json',\n",
    "    'Api-Version': '2.0',\n",
    "    'Authorization': f'Bearer {access_token}'\n",
    "}\n",
    "params = {\n",
    "    'order_id': '230710000444897'\n",
    "}\n",
    "\n",
    "response = make_request('GET', url, headers=headers, params=params)\n",
    "response"
   ]
  },
  {
   "cell_type": "code",
   "execution_count": null,
   "id": "396cf02d-e944-49cf-90d8-c28190923edd",
   "metadata": {},
   "outputs": [],
   "source": [
    "#order modify\n",
    "url = 'https://api-v2.upstox.com/order/modify'\n",
    "headers = {\n",
    "    'accept': 'application/json',\n",
    "    'Api-Version': '2.0',\n",
    "    'Content-Type': 'application/json',\n",
    "    'Authorization': f'Bearer {access_token}'\n",
    "}\n",
    "data = {\n",
    "    \"quantity\": 1,\n",
    "    \"validity\": \"DAY\",\n",
    "    \"price\": 90.4,\n",
    "    \"order_id\": \"230710000450870\",\n",
    "    \"order_type\": \"LIMIT\",\n",
    "    \"disclosed_quantity\": 0,\n",
    "    \"trigger_price\": 0\n",
    "}\n",
    "\n",
    "response = make_request('PUT', url, headers=headers, data=data)\n",
    "response"
   ]
  },
  {
   "cell_type": "code",
   "execution_count": null,
   "id": "e263288d-41f9-4bc5-bc98-1e600ed2e725",
   "metadata": {},
   "outputs": [],
   "source": [
    "# position book\n",
    "url = 'https://api-v2.upstox.com/portfolio/short-term-positions'\n",
    "headers = {\n",
    "    'accept': 'application/json',\n",
    "    'Api-Version': '2.0',\n",
    "    'Authorization': f'Bearer {access_token}'\n",
    "}\n",
    "response = make_request('GET', url, headers=headers)\n",
    "response"
   ]
  },
  {
   "cell_type": "code",
   "execution_count": null,
   "id": "5cd4a279-ffe1-4d51-b0e8-e6f86cc56bcb",
   "metadata": {},
   "outputs": [],
   "source": []
  }
 ],
 "metadata": {
  "kernelspec": {
   "display_name": "Python 3 (ipykernel)",
   "language": "python",
   "name": "python3"
  },
  "language_info": {
   "codemirror_mode": {
    "name": "ipython",
    "version": 3
   },
   "file_extension": ".py",
   "mimetype": "text/x-python",
   "name": "python",
   "nbconvert_exporter": "python",
   "pygments_lexer": "ipython3",
   "version": "3.10.0"
  }
 },
 "nbformat": 4,
 "nbformat_minor": 5
}
